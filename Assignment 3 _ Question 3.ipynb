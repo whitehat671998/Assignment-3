{
 "cells": [
  {
   "cell_type": "code",
   "execution_count": 1,
   "id": "41865823",
   "metadata": {},
   "outputs": [
    {
     "name": "stdout",
     "output_type": "stream",
     "text": [
      "Input String:EdYoda\n",
      "Original String :  EdYoda\n",
      "No. of Upper case characters :  2\n",
      "No. of Lower case Characters :  4\n"
     ]
    }
   ],
   "source": [
    "def test_string():\n",
    "    input_str=input(\"Input String:\")\n",
    "    UC=0\n",
    "    LC=0\n",
    "    for chr in input_str:\n",
    "        if chr.isupper():\n",
    "           UC+=1\n",
    "        elif chr.islower():\n",
    "           LC+=1\n",
    "    print (\"Original String : \", input_str)\n",
    "    print (\"No. of Upper case characters : \", UC)\n",
    "    print (\"No. of Lower case Characters : \", LC)\n",
    "\n",
    "test_string()\n"
   ]
  },
  {
   "cell_type": "code",
   "execution_count": null,
   "id": "26008ece",
   "metadata": {},
   "outputs": [],
   "source": []
  }
 ],
 "metadata": {
  "kernelspec": {
   "display_name": "Python 3 (ipykernel)",
   "language": "python",
   "name": "python3"
  },
  "language_info": {
   "codemirror_mode": {
    "name": "ipython",
    "version": 3
   },
   "file_extension": ".py",
   "mimetype": "text/x-python",
   "name": "python",
   "nbconvert_exporter": "python",
   "pygments_lexer": "ipython3",
   "version": "3.9.12"
  }
 },
 "nbformat": 4,
 "nbformat_minor": 5
}
